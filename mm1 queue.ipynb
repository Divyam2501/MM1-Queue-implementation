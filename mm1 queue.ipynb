{
 "cells": [
  {
   "cell_type": "code",
   "execution_count": 3,
   "id": "b7669c80",
   "metadata": {},
   "outputs": [],
   "source": [
    "import numpy as np\n",
    "import math\n",
    "from matplotlib import pyplot as plt"
   ]
  },
  {
   "cell_type": "code",
   "execution_count": 4,
   "id": "5cb39576",
   "metadata": {},
   "outputs": [],
   "source": [
    "def exp(rate):\n",
    "    return np.random.exponential(1/rate)\n",
    "    #return -math.log(np.random.uniform(0,1))/rate"
   ]
  },
  {
   "cell_type": "code",
   "execution_count": 6,
   "id": "b76c89b1",
   "metadata": {
    "scrolled": true
   },
   "outputs": [
    {
     "name": "stdout",
     "output_type": "stream",
     "text": [
      "1000\n",
      "Enter the service rate3\n",
      "Enter the arrival rate5\n"
     ]
    }
   ],
   "source": [
    "total_customers = int(input())\n",
    "service_rate = float(input(\"Enter the service rate\"))\n",
    "arrival_rate = float(input(\"Enter the arrival rate\"))"
   ]
  },
  {
   "cell_type": "code",
   "execution_count": 7,
   "id": "01ed9b6a",
   "metadata": {},
   "outputs": [
    {
     "name": "stdout",
     "output_type": "stream",
     "text": [
      "average wait time in the queue is 65.53157604366072\n",
      "average length of the queue is 201.32314629258516\n"
     ]
    },
    {
     "data": {
      "image/png": "[encoded data removed]",
      "text/plain": [
       "<Figure size 432x288 with 1 Axes>"
      ]
     },
     "metadata": {
      "needs_background": "light"
     },
     "output_type": "display_data"
    }
   ],
   "source": [
    "# Initialize the arrays\n",
    "\n",
    "service_time = [0]*total_customers\n",
    "arrival_time = [0]*total_customers\n",
    "service_enter_time = [0]*total_customers\n",
    "service_exit_time = [0]*total_customers\n",
    "wait_time = [0]*total_customers\n",
    "\n",
    "# Calculate arrival times and service times\n",
    "\n",
    "for i in range(total_customers):\n",
    "    service_time[i] = exp(service_rate)\n",
    "for i in range(1, total_customers):\n",
    "    #print(arrival_times[i-1])\n",
    "    arrival_time[i] = arrival_time[i-1] + exp(arrival_rate)\n",
    "    \n",
    "# Calculate service enter and service exit times along with wait times\n",
    "\n",
    "for i in range(1, total_customers):\n",
    "    # if the customer in service leaves before the next one arrives\n",
    "    if(service_exit_time[i-1] < arrival_time[i]):\n",
    "        service_enter_time[i] = arrival_time[i]\n",
    "    else:\n",
    "        service_enter_time[i] = service_exit_time[i-1]\n",
    "    service_exit_time[i] = service_enter_time[i] + service_time[i]\n",
    "    wait_time[i] = service_enter_time[i] - arrival_time[i]\n",
    "\n",
    "    \n",
    "    \n",
    "# Calculate and print average wait time\n",
    "\n",
    "avg_wait_time = sum(wait_time)/len(wait_time)\n",
    "print(\"average wait time in the queue is \" + str(avg_wait_time))\n",
    "\n",
    "\n",
    "\n",
    "# calculating queue length, excluding the person in service currently\n",
    "i = 0 # pointer on the arrival time\n",
    "j = 0 # pointer on service_enter time\n",
    "len_queue = [0]\n",
    "while(i < total_customers and j < total_customers):\n",
    "    #print(i)\n",
    "    while(i < total_customers and arrival_time[i] < service_enter_time[j]):\n",
    "        len_queue.append(len_queue[-1] + 1)\n",
    "        i = i + 1\n",
    "    while(i < total_customers and j < total_customers and arrival_time[i] > service_enter_time[j]):\n",
    "        len_queue.append(len_queue[-1] - 1)\n",
    "        j = j + 1\n",
    "    if(i < total_customers and j < total_customers and arrival_time[i] == service_enter_time[j]):\n",
    "        i = i + 1\n",
    "        j = j + 1\n",
    "        len_queue.append(len_queue[-1])\n",
    "while(i<total_customers):\n",
    "    len_queue.append(len_queue[-1] + 1)\n",
    "    i = i + 1\n",
    "while(j<total_customers):\n",
    "    len_queue.append(len_queue[-1] - 1)\n",
    "    j = j + 1\n",
    "    \n",
    "# Calculating and printing average queue length\n",
    "\n",
    "avg_q_len = sum(len_queue)/len(len_queue)\n",
    "print(\"average length of the queue is \" + str(avg_q_len))\n",
    "\n",
    "plt.hist(len_queue)\n",
    "plt.show()"
   ]
  },
  {
   "cell_type": "code",
   "execution_count": null,
   "id": "31757adc",
   "metadata": {},
   "outputs": [],
   "source": []
  }
 ],
 "metadata": {
  "kernelspec": {
   "display_name": "Python 3 (ipykernel)",
   "language": "python",
   "name": "python3"
  },
  "language_info": {
   "codemirror_mode": {
    "name": "ipython",
    "version": 3
   },
   "file_extension": ".py",
   "mimetype": "text/x-python",
   "name": "python",
   "nbconvert_exporter": "python",
   "pygments_lexer": "ipython3",
   "version": "3.7.4"
  }
 },
 "nbformat": 4,
 "nbformat_minor": 5
}
